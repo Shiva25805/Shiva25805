{
 "cells": [
  {
   "cell_type": "markdown",
   "id": "1b36ac49",
   "metadata": {
    "papermill": {
     "duration": 0.007793,
     "end_time": "2024-02-15T14:39:25.964588",
     "exception": false,
     "start_time": "2024-02-15T14:39:25.956795",
     "status": "completed"
    },
    "tags": []
   },
   "source": [
    "# ***Instagram User Behavior Analysis for Fake and Real Account***\n",
    "**Author: Shifa Naaz**"
   ]
  },
  {
   "cell_type": "markdown",
   "id": "93d7d016",
   "metadata": {
    "papermill": {
     "duration": 0.006934,
     "end_time": "2024-02-15T14:39:25.979000",
     "exception": false,
     "start_time": "2024-02-15T14:39:25.972066",
     "status": "completed"
    },
    "tags": []
   },
   "source": [
    "<div align=\"center\" style=\"background: purple; color: white; padding: 10px; border-top-left-radius: 20px; border-top-right-radius: 0px; border-bottom-left-radius: 0px; border-bottom-right-radius: 20px;\">\n",
    "  <h1 style=\"font-size: 40px; font-weight: bold; font-family: 'Times New Roman'; margin: 0; padding: 0;\">1.Problem Statment</h1>\n",
    "</div>\n",
    "\n",
    "<right>\n",
    "<h1 style=\"background-color:Lavender; color:black; font-size:20px; font-family:Roman; border-radius: 10px;\"> This project focuses on analyzing user behavior on Instagram to gain insights into user engagement, preferences, and overall experience. Key areas include user engagement metrics, content analysis, demographics, follower growth/churn, influencer analysis, brand advocacy, story engagement, page factors, and user journey analysis. Privacy and ethical considerations align with Instagram's terms of service and data usage policies."
   ]
  },
  {
   "cell_type": "markdown",
   "id": "844fb227",
   "metadata": {
    "papermill": {
     "duration": 0.007298,
     "end_time": "2024-02-15T14:39:25.994367",
     "exception": false,
     "start_time": "2024-02-15T14:39:25.987069",
     "status": "completed"
    },
    "tags": []
   },
   "source": [
    "<div align=\"center\" style=\"background: purple; color: white; padding: 10px; border-top-left-radius: 20px; border-top-right-radius: 0px; border-bottom-left-radius: 0px; border-bottom-right-radius: 20px;\">\n",
    "  <h1 style=\"font-size: 40px; font-weight: bold; font-family: 'Times New Roman'; margin: 0; padding: 0;\">2.Importing Libraries</h1>\n",
    "</div>\n",
    "\n",
    "\n"
   ]
  },
  {
   "cell_type": "code",
   "execution_count": 1,
   "id": "a6668e84",
   "metadata": {
    "execution": {
     "iopub.execute_input": "2024-02-15T14:39:26.011405Z",
     "iopub.status.busy": "2024-02-15T14:39:26.010890Z",
     "iopub.status.idle": "2024-02-15T14:39:28.246381Z",
     "shell.execute_reply": "2024-02-15T14:39:28.244703Z"
    },
    "papermill": {
     "duration": 2.247224,
     "end_time": "2024-02-15T14:39:28.249228",
     "exception": false,
     "start_time": "2024-02-15T14:39:26.002004",
     "status": "completed"
    },
    "tags": []
   },
   "outputs": [
    {
     "name": "stderr",
     "output_type": "stream",
     "text": [
      "/opt/conda/lib/python3.10/site-packages/scipy/__init__.py:146: UserWarning: A NumPy version >=1.16.5 and <1.23.0 is required for this version of SciPy (detected version 1.23.5\n",
      "  warnings.warn(f\"A NumPy version >={np_minversion} and <{np_maxversion}\"\n"
     ]
    }
   ],
   "source": [
    "import numpy as np \n",
    "import pandas as pd \n",
    "import seaborn as sns\n",
    "import plotly.express as px\n",
    "import matplotlib.pyplot as plt\n",
    "from matplotlib import style\n",
    "%matplotlib inline\n",
    "import warnings\n",
    "warnings.filterwarnings('ignore')"
   ]
  },
  {
   "cell_type": "markdown",
   "id": "29a67e5d",
   "metadata": {
    "papermill": {
     "duration": 0.007138,
     "end_time": "2024-02-15T14:39:28.266433",
     "exception": false,
     "start_time": "2024-02-15T14:39:28.259295",
     "status": "completed"
    },
    "tags": []
   },
   "source": [
    "<div align=\"center\" style=\"background: purple; color: white; padding: 10px; border-top-left-radius: 20px; border-top-right-radius: 0px; border-bottom-left-radius: 0px; border-bottom-right-radius: 20px;\">\n",
    "  <h1 style=\"font-size: 40px; font-weight: bold; font-family: 'Times New Roman'; margin: 0; padding: 0;\">3.Data Importing</h1>\n",
    "</div>\n"
   ]
  },
  {
   "cell_type": "code",
   "execution_count": 2,
   "id": "602dc78e",
   "metadata": {
    "execution": {
     "iopub.execute_input": "2024-02-15T14:39:28.283362Z",
     "iopub.status.busy": "2024-02-15T14:39:28.282921Z",
     "iopub.status.idle": "2024-02-15T14:39:28.308157Z",
     "shell.execute_reply": "2024-02-15T14:39:28.307309Z"
    },
    "papermill": {
     "duration": 0.036172,
     "end_time": "2024-02-15T14:39:28.310471",
     "exception": false,
     "start_time": "2024-02-15T14:39:28.274299",
     "status": "completed"
    },
    "tags": []
   },
   "outputs": [],
   "source": [
    "df = pd.read_csv('/kaggle/input/instagram-fake-and-real-accounts-dataset/final-v1.csv')"
   ]
  },
  {
   "cell_type": "markdown",
   "id": "a97547c6",
   "metadata": {
    "papermill": {
     "duration": 0.007362,
     "end_time": "2024-02-15T14:39:28.325448",
     "exception": false,
     "start_time": "2024-02-15T14:39:28.318086",
     "status": "completed"
    },
    "tags": []
   },
   "source": [
    "<div align=\"center\" style=\"background: purple; color: white; padding: 10px; border-top-left-radius: 20px; border-top-right-radius: 0px; border-bottom-left-radius: 0px; border-bottom-right-radius: 20px;\">\n",
    "  <h1 style=\"font-size: 40px; font-weight: bold; font-family: 'Times New Roman'; margin: 0; padding: 0;\">4.Data Reading and Cleaning</h1>\n",
    "</div>\n",
    "\n",
    "# Data Reading and Cleaning\n"
   ]
  },
  {
   "cell_type": "code",
   "execution_count": 3,
   "id": "e63bd4a3",
   "metadata": {
    "execution": {
     "iopub.execute_input": "2024-02-15T14:39:28.342434Z",
     "iopub.status.busy": "2024-02-15T14:39:28.341593Z",
     "iopub.status.idle": "2024-02-15T14:39:28.363383Z",
     "shell.execute_reply": "2024-02-15T14:39:28.362559Z"
    },
    "papermill": {
     "duration": 0.032397,
     "end_time": "2024-02-15T14:39:28.365411",
     "exception": false,
     "start_time": "2024-02-15T14:39:28.333014",
     "status": "completed"
    },
    "tags": []
   },
   "outputs": [
    {
     "data": {
      "text/html": [
       "<div>\n",
       "<style scoped>\n",
       "    .dataframe tbody tr th:only-of-type {\n",
       "        vertical-align: middle;\n",
       "    }\n",
       "\n",
       "    .dataframe tbody tr th {\n",
       "        vertical-align: top;\n",
       "    }\n",
       "\n",
       "    .dataframe thead th {\n",
       "        text-align: right;\n",
       "    }\n",
       "</style>\n",
       "<table border=\"1\" class=\"dataframe\">\n",
       "  <thead>\n",
       "    <tr style=\"text-align: right;\">\n",
       "      <th></th>\n",
       "      <th>edge_followed_by</th>\n",
       "      <th>edge_follow</th>\n",
       "      <th>username_length</th>\n",
       "      <th>username_has_number</th>\n",
       "      <th>full_name_has_number</th>\n",
       "      <th>full_name_length</th>\n",
       "      <th>is_private</th>\n",
       "      <th>is_joined_recently</th>\n",
       "      <th>has_channel</th>\n",
       "      <th>is_business_account</th>\n",
       "      <th>has_guides</th>\n",
       "      <th>has_external_url</th>\n",
       "      <th>is_fake</th>\n",
       "    </tr>\n",
       "  </thead>\n",
       "  <tbody>\n",
       "    <tr>\n",
       "      <th>0</th>\n",
       "      <td>0.001</td>\n",
       "      <td>0.257</td>\n",
       "      <td>13</td>\n",
       "      <td>1</td>\n",
       "      <td>1</td>\n",
       "      <td>13</td>\n",
       "      <td>0</td>\n",
       "      <td>0</td>\n",
       "      <td>0</td>\n",
       "      <td>0</td>\n",
       "      <td>0</td>\n",
       "      <td>0</td>\n",
       "      <td>1</td>\n",
       "    </tr>\n",
       "    <tr>\n",
       "      <th>1</th>\n",
       "      <td>0.000</td>\n",
       "      <td>0.958</td>\n",
       "      <td>9</td>\n",
       "      <td>1</td>\n",
       "      <td>0</td>\n",
       "      <td>0</td>\n",
       "      <td>0</td>\n",
       "      <td>1</td>\n",
       "      <td>0</td>\n",
       "      <td>0</td>\n",
       "      <td>0</td>\n",
       "      <td>0</td>\n",
       "      <td>1</td>\n",
       "    </tr>\n",
       "    <tr>\n",
       "      <th>2</th>\n",
       "      <td>0.000</td>\n",
       "      <td>0.253</td>\n",
       "      <td>12</td>\n",
       "      <td>0</td>\n",
       "      <td>0</td>\n",
       "      <td>0</td>\n",
       "      <td>0</td>\n",
       "      <td>0</td>\n",
       "      <td>0</td>\n",
       "      <td>0</td>\n",
       "      <td>0</td>\n",
       "      <td>0</td>\n",
       "      <td>1</td>\n",
       "    </tr>\n",
       "    <tr>\n",
       "      <th>3</th>\n",
       "      <td>0.000</td>\n",
       "      <td>0.977</td>\n",
       "      <td>10</td>\n",
       "      <td>1</td>\n",
       "      <td>0</td>\n",
       "      <td>0</td>\n",
       "      <td>0</td>\n",
       "      <td>0</td>\n",
       "      <td>0</td>\n",
       "      <td>0</td>\n",
       "      <td>0</td>\n",
       "      <td>0</td>\n",
       "      <td>1</td>\n",
       "    </tr>\n",
       "    <tr>\n",
       "      <th>4</th>\n",
       "      <td>0.000</td>\n",
       "      <td>0.321</td>\n",
       "      <td>11</td>\n",
       "      <td>0</td>\n",
       "      <td>0</td>\n",
       "      <td>11</td>\n",
       "      <td>1</td>\n",
       "      <td>0</td>\n",
       "      <td>0</td>\n",
       "      <td>0</td>\n",
       "      <td>0</td>\n",
       "      <td>0</td>\n",
       "      <td>1</td>\n",
       "    </tr>\n",
       "  </tbody>\n",
       "</table>\n",
       "</div>"
      ],
      "text/plain": [
       "   edge_followed_by  edge_follow  username_length  username_has_number  \\\n",
       "0             0.001        0.257               13                    1   \n",
       "1             0.000        0.958                9                    1   \n",
       "2             0.000        0.253               12                    0   \n",
       "3             0.000        0.977               10                    1   \n",
       "4             0.000        0.321               11                    0   \n",
       "\n",
       "   full_name_has_number  full_name_length  is_private  is_joined_recently  \\\n",
       "0                     1                13           0                   0   \n",
       "1                     0                 0           0                   1   \n",
       "2                     0                 0           0                   0   \n",
       "3                     0                 0           0                   0   \n",
       "4                     0                11           1                   0   \n",
       "\n",
       "   has_channel  is_business_account  has_guides  has_external_url  is_fake  \n",
       "0            0                    0           0                 0        1  \n",
       "1            0                    0           0                 0        1  \n",
       "2            0                    0           0                 0        1  \n",
       "3            0                    0           0                 0        1  \n",
       "4            0                    0           0                 0        1  "
      ]
     },
     "execution_count": 3,
     "metadata": {},
     "output_type": "execute_result"
    }
   ],
   "source": [
    "df.head(5)"
   ]
  },
  {
   "cell_type": "code",
   "execution_count": 4,
   "id": "1c16dbcb",
   "metadata": {
    "execution": {
     "iopub.execute_input": "2024-02-15T14:39:28.382847Z",
     "iopub.status.busy": "2024-02-15T14:39:28.382194Z",
     "iopub.status.idle": "2024-02-15T14:39:28.395540Z",
     "shell.execute_reply": "2024-02-15T14:39:28.394562Z"
    },
    "papermill": {
     "duration": 0.02478,
     "end_time": "2024-02-15T14:39:28.397816",
     "exception": false,
     "start_time": "2024-02-15T14:39:28.373036",
     "status": "completed"
    },
    "tags": []
   },
   "outputs": [
    {
     "data": {
      "text/html": [
       "<div>\n",
       "<style scoped>\n",
       "    .dataframe tbody tr th:only-of-type {\n",
       "        vertical-align: middle;\n",
       "    }\n",
       "\n",
       "    .dataframe tbody tr th {\n",
       "        vertical-align: top;\n",
       "    }\n",
       "\n",
       "    .dataframe thead th {\n",
       "        text-align: right;\n",
       "    }\n",
       "</style>\n",
       "<table border=\"1\" class=\"dataframe\">\n",
       "  <thead>\n",
       "    <tr style=\"text-align: right;\">\n",
       "      <th></th>\n",
       "      <th>edge_followed_by</th>\n",
       "      <th>edge_follow</th>\n",
       "      <th>username_length</th>\n",
       "      <th>username_has_number</th>\n",
       "      <th>full_name_has_number</th>\n",
       "      <th>full_name_length</th>\n",
       "      <th>is_private</th>\n",
       "      <th>is_joined_recently</th>\n",
       "      <th>has_channel</th>\n",
       "      <th>is_business_account</th>\n",
       "      <th>has_guides</th>\n",
       "      <th>has_external_url</th>\n",
       "      <th>is_fake</th>\n",
       "    </tr>\n",
       "  </thead>\n",
       "  <tbody>\n",
       "    <tr>\n",
       "      <th>780</th>\n",
       "      <td>0.0</td>\n",
       "      <td>0.020</td>\n",
       "      <td>9</td>\n",
       "      <td>0</td>\n",
       "      <td>0</td>\n",
       "      <td>14</td>\n",
       "      <td>1</td>\n",
       "      <td>0</td>\n",
       "      <td>0</td>\n",
       "      <td>0</td>\n",
       "      <td>0</td>\n",
       "      <td>0</td>\n",
       "      <td>0</td>\n",
       "    </tr>\n",
       "    <tr>\n",
       "      <th>781</th>\n",
       "      <td>0.0</td>\n",
       "      <td>0.081</td>\n",
       "      <td>18</td>\n",
       "      <td>1</td>\n",
       "      <td>0</td>\n",
       "      <td>15</td>\n",
       "      <td>1</td>\n",
       "      <td>0</td>\n",
       "      <td>0</td>\n",
       "      <td>0</td>\n",
       "      <td>0</td>\n",
       "      <td>0</td>\n",
       "      <td>0</td>\n",
       "    </tr>\n",
       "    <tr>\n",
       "      <th>782</th>\n",
       "      <td>0.0</td>\n",
       "      <td>0.115</td>\n",
       "      <td>9</td>\n",
       "      <td>0</td>\n",
       "      <td>0</td>\n",
       "      <td>8</td>\n",
       "      <td>1</td>\n",
       "      <td>0</td>\n",
       "      <td>0</td>\n",
       "      <td>0</td>\n",
       "      <td>0</td>\n",
       "      <td>0</td>\n",
       "      <td>0</td>\n",
       "    </tr>\n",
       "    <tr>\n",
       "      <th>783</th>\n",
       "      <td>0.0</td>\n",
       "      <td>0.049</td>\n",
       "      <td>12</td>\n",
       "      <td>0</td>\n",
       "      <td>0</td>\n",
       "      <td>28</td>\n",
       "      <td>1</td>\n",
       "      <td>0</td>\n",
       "      <td>0</td>\n",
       "      <td>0</td>\n",
       "      <td>0</td>\n",
       "      <td>0</td>\n",
       "      <td>0</td>\n",
       "    </tr>\n",
       "    <tr>\n",
       "      <th>784</th>\n",
       "      <td>0.0</td>\n",
       "      <td>0.096</td>\n",
       "      <td>11</td>\n",
       "      <td>0</td>\n",
       "      <td>0</td>\n",
       "      <td>0</td>\n",
       "      <td>1</td>\n",
       "      <td>0</td>\n",
       "      <td>0</td>\n",
       "      <td>0</td>\n",
       "      <td>0</td>\n",
       "      <td>0</td>\n",
       "      <td>0</td>\n",
       "    </tr>\n",
       "  </tbody>\n",
       "</table>\n",
       "</div>"
      ],
      "text/plain": [
       "     edge_followed_by  edge_follow  username_length  username_has_number  \\\n",
       "780               0.0        0.020                9                    0   \n",
       "781               0.0        0.081               18                    1   \n",
       "782               0.0        0.115                9                    0   \n",
       "783               0.0        0.049               12                    0   \n",
       "784               0.0        0.096               11                    0   \n",
       "\n",
       "     full_name_has_number  full_name_length  is_private  is_joined_recently  \\\n",
       "780                     0                14           1                   0   \n",
       "781                     0                15           1                   0   \n",
       "782                     0                 8           1                   0   \n",
       "783                     0                28           1                   0   \n",
       "784                     0                 0           1                   0   \n",
       "\n",
       "     has_channel  is_business_account  has_guides  has_external_url  is_fake  \n",
       "780            0                    0           0                 0        0  \n",
       "781            0                    0           0                 0        0  \n",
       "782            0                    0           0                 0        0  \n",
       "783            0                    0           0                 0        0  \n",
       "784            0                    0           0                 0        0  "
      ]
     },
     "execution_count": 4,
     "metadata": {},
     "output_type": "execute_result"
    }
   ],
   "source": [
    "df.tail(5)"
   ]
  },
  {
   "cell_type": "code",
   "execution_count": 5,
   "id": "bbc46841",
   "metadata": {
    "execution": {
     "iopub.execute_input": "2024-02-15T14:39:28.416299Z",
     "iopub.status.busy": "2024-02-15T14:39:28.415687Z",
     "iopub.status.idle": "2024-02-15T14:39:28.421216Z",
     "shell.execute_reply": "2024-02-15T14:39:28.420339Z"
    },
    "papermill": {
     "duration": 0.017198,
     "end_time": "2024-02-15T14:39:28.423225",
     "exception": false,
     "start_time": "2024-02-15T14:39:28.406027",
     "status": "completed"
    },
    "tags": []
   },
   "outputs": [
    {
     "data": {
      "text/plain": [
       "(785, 13)"
      ]
     },
     "execution_count": 5,
     "metadata": {},
     "output_type": "execute_result"
    }
   ],
   "source": [
    "df.shape"
   ]
  },
  {
   "cell_type": "code",
   "execution_count": 6,
   "id": "a4e0de12",
   "metadata": {
    "execution": {
     "iopub.execute_input": "2024-02-15T14:39:28.440860Z",
     "iopub.status.busy": "2024-02-15T14:39:28.440502Z",
     "iopub.status.idle": "2024-02-15T14:39:28.447027Z",
     "shell.execute_reply": "2024-02-15T14:39:28.445828Z"
    },
    "papermill": {
     "duration": 0.017748,
     "end_time": "2024-02-15T14:39:28.449039",
     "exception": false,
     "start_time": "2024-02-15T14:39:28.431291",
     "status": "completed"
    },
    "tags": []
   },
   "outputs": [
    {
     "data": {
      "text/plain": [
       "Index(['edge_followed_by', 'edge_follow', 'username_length',\n",
       "       'username_has_number', 'full_name_has_number', 'full_name_length',\n",
       "       'is_private', 'is_joined_recently', 'has_channel',\n",
       "       'is_business_account', 'has_guides', 'has_external_url', 'is_fake'],\n",
       "      dtype='object')"
      ]
     },
     "execution_count": 6,
     "metadata": {},
     "output_type": "execute_result"
    }
   ],
   "source": [
    "df.columns"
   ]
  },
  {
   "cell_type": "code",
   "execution_count": 7,
   "id": "3bcac3a4",
   "metadata": {
    "execution": {
     "iopub.execute_input": "2024-02-15T14:39:28.468681Z",
     "iopub.status.busy": "2024-02-15T14:39:28.467869Z",
     "iopub.status.idle": "2024-02-15T14:39:28.502476Z",
     "shell.execute_reply": "2024-02-15T14:39:28.500442Z"
    },
    "papermill": {
     "duration": 0.047067,
     "end_time": "2024-02-15T14:39:28.505412",
     "exception": false,
     "start_time": "2024-02-15T14:39:28.458345",
     "status": "completed"
    },
    "tags": []
   },
   "outputs": [
    {
     "name": "stdout",
     "output_type": "stream",
     "text": [
      "     edge_followed_by  edge_follow  username_length  username_has_number  \\\n",
      "0               0.001        0.257               13                    1   \n",
      "1               0.000        0.958                9                    1   \n",
      "2               0.000        0.253               12                    0   \n",
      "3               0.000        0.977               10                    1   \n",
      "4               0.000        0.321               11                    0   \n",
      "..                ...          ...              ...                  ...   \n",
      "780             0.000        0.020                9                    0   \n",
      "781             0.000        0.081               18                    1   \n",
      "782             0.000        0.115                9                    0   \n",
      "783             0.000        0.049               12                    0   \n",
      "784             0.000        0.096               11                    0   \n",
      "\n",
      "     full_name_has_number  full_name_length  is_private  is_joined_recently  \\\n",
      "0                       1                13           0                   0   \n",
      "1                       0                 0           0                   1   \n",
      "2                       0                 0           0                   0   \n",
      "3                       0                 0           0                   0   \n",
      "4                       0                11           1                   0   \n",
      "..                    ...               ...         ...                 ...   \n",
      "780                     0                14           1                   0   \n",
      "781                     0                15           1                   0   \n",
      "782                     0                 8           1                   0   \n",
      "783                     0                28           1                   0   \n",
      "784                     0                 0           1                   0   \n",
      "\n",
      "     has_channel  is_business_account  has_guides  has_external_url  is_fake  \n",
      "0              0                    0           0                 0        1  \n",
      "1              0                    0           0                 0        1  \n",
      "2              0                    0           0                 0        1  \n",
      "3              0                    0           0                 0        1  \n",
      "4              0                    0           0                 0        1  \n",
      "..           ...                  ...         ...               ...      ...  \n",
      "780            0                    0           0                 0        0  \n",
      "781            0                    0           0                 0        0  \n",
      "782            0                    0           0                 0        0  \n",
      "783            0                    0           0                 0        0  \n",
      "784            0                    0           0                 0        0  \n",
      "\n",
      "[785 rows x 13 columns]\n",
      "dimensions:\n",
      "(785, 13)\n",
      "Information:\n",
      "<class 'pandas.core.frame.DataFrame'>\n",
      "RangeIndex: 785 entries, 0 to 784\n",
      "Data columns (total 13 columns):\n",
      " #   Column                Non-Null Count  Dtype  \n",
      "---  ------                --------------  -----  \n",
      " 0   edge_followed_by      785 non-null    float64\n",
      " 1   edge_follow           785 non-null    float64\n",
      " 2   username_length       785 non-null    int64  \n",
      " 3   username_has_number   785 non-null    int64  \n",
      " 4   full_name_has_number  785 non-null    int64  \n",
      " 5   full_name_length      785 non-null    int64  \n",
      " 6   is_private            785 non-null    int64  \n",
      " 7   is_joined_recently    785 non-null    int64  \n",
      " 8   has_channel           785 non-null    int64  \n",
      " 9   is_business_account   785 non-null    int64  \n",
      " 10  has_guides            785 non-null    int64  \n",
      " 11  has_external_url      785 non-null    int64  \n",
      " 12  is_fake               785 non-null    int64  \n",
      "dtypes: float64(2), int64(11)\n",
      "memory usage: 79.9 KB\n"
     ]
    }
   ],
   "source": [
    "#Data reading, checking dimensions and information of the data\n",
    "print(df)\n",
    "print('dimensions:')\n",
    "print(df.shape)\n",
    "print('Information:')\n",
    "df.info()"
   ]
  },
  {
   "cell_type": "code",
   "execution_count": 8,
   "id": "18a8ebc4",
   "metadata": {
    "execution": {
     "iopub.execute_input": "2024-02-15T14:39:28.524112Z",
     "iopub.status.busy": "2024-02-15T14:39:28.523730Z",
     "iopub.status.idle": "2024-02-15T14:39:28.537183Z",
     "shell.execute_reply": "2024-02-15T14:39:28.536050Z"
    },
    "papermill": {
     "duration": 0.025894,
     "end_time": "2024-02-15T14:39:28.539618",
     "exception": false,
     "start_time": "2024-02-15T14:39:28.513724",
     "status": "completed"
    },
    "tags": []
   },
   "outputs": [
    {
     "name": "stdout",
     "output_type": "stream",
     "text": [
      "edge_followed_by        [0.001, 0.0, 0.002, 0.005, 0.008, 0.003, 0.006...\n",
      "edge_follow             [0.257, 0.958, 0.253, 0.977, 0.321, 0.917, 0.0...\n",
      "username_length         [13, 9, 12, 10, 11, 15, 7, 8, 17, 14, 20, 18, ...\n",
      "username_has_number                                                [1, 0]\n",
      "full_name_has_number                                               [1, 0]\n",
      "full_name_length        [13, 0, 11, 9, 4, 6, 1, 16, 7, 5, 15, 2, 3, 12...\n",
      "is_private                                                         [0, 1]\n",
      "is_joined_recently                                                 [0, 1]\n",
      "has_channel                                                           [0]\n",
      "is_business_account                                                [0, 1]\n",
      "has_guides                                                         [0, 1]\n",
      "has_external_url                                                   [0, 1]\n",
      "is_fake                                                            [1, 0]\n",
      "dtype: object\n"
     ]
    }
   ],
   "source": [
    "print(df.apply(lambda col: col.unique())) "
   ]
  },
  {
   "cell_type": "code",
   "execution_count": 9,
   "id": "c589204e",
   "metadata": {
    "execution": {
     "iopub.execute_input": "2024-02-15T14:39:28.559308Z",
     "iopub.status.busy": "2024-02-15T14:39:28.558902Z",
     "iopub.status.idle": "2024-02-15T14:39:28.569199Z",
     "shell.execute_reply": "2024-02-15T14:39:28.568346Z"
    },
    "papermill": {
     "duration": 0.022779,
     "end_time": "2024-02-15T14:39:28.571348",
     "exception": false,
     "start_time": "2024-02-15T14:39:28.548569",
     "status": "completed"
    },
    "tags": []
   },
   "outputs": [
    {
     "data": {
      "text/plain": [
       "edge_followed_by         22\n",
       "edge_follow             506\n",
       "username_length          21\n",
       "username_has_number       2\n",
       "full_name_has_number      2\n",
       "full_name_length         30\n",
       "is_private                2\n",
       "is_joined_recently        2\n",
       "has_channel               1\n",
       "is_business_account       2\n",
       "has_guides                2\n",
       "has_external_url          2\n",
       "is_fake                   2\n",
       "dtype: int64"
      ]
     },
     "execution_count": 9,
     "metadata": {},
     "output_type": "execute_result"
    }
   ],
   "source": [
    "df.nunique()"
   ]
  },
  {
   "cell_type": "code",
   "execution_count": 10,
   "id": "f485d3c9",
   "metadata": {
    "execution": {
     "iopub.execute_input": "2024-02-15T14:39:28.590552Z",
     "iopub.status.busy": "2024-02-15T14:39:28.589794Z",
     "iopub.status.idle": "2024-02-15T14:39:28.615940Z",
     "shell.execute_reply": "2024-02-15T14:39:28.614827Z"
    },
    "papermill": {
     "duration": 0.038513,
     "end_time": "2024-02-15T14:39:28.618296",
     "exception": false,
     "start_time": "2024-02-15T14:39:28.579783",
     "status": "completed"
    },
    "tags": []
   },
   "outputs": [
    {
     "data": {
      "text/html": [
       "<div>\n",
       "<style scoped>\n",
       "    .dataframe tbody tr th:only-of-type {\n",
       "        vertical-align: middle;\n",
       "    }\n",
       "\n",
       "    .dataframe tbody tr th {\n",
       "        vertical-align: top;\n",
       "    }\n",
       "\n",
       "    .dataframe thead th {\n",
       "        text-align: right;\n",
       "    }\n",
       "</style>\n",
       "<table border=\"1\" class=\"dataframe\">\n",
       "  <thead>\n",
       "    <tr style=\"text-align: right;\">\n",
       "      <th></th>\n",
       "      <th>edge_followed_by</th>\n",
       "      <th>edge_follow</th>\n",
       "      <th>username_length</th>\n",
       "      <th>username_has_number</th>\n",
       "      <th>full_name_has_number</th>\n",
       "      <th>full_name_length</th>\n",
       "      <th>is_private</th>\n",
       "      <th>is_joined_recently</th>\n",
       "      <th>has_channel</th>\n",
       "      <th>is_business_account</th>\n",
       "      <th>has_guides</th>\n",
       "      <th>has_external_url</th>\n",
       "      <th>is_fake</th>\n",
       "    </tr>\n",
       "  </thead>\n",
       "  <tbody>\n",
       "    <tr>\n",
       "      <th>edge_followed_by</th>\n",
       "      <td>1.000000</td>\n",
       "      <td>-0.054259</td>\n",
       "      <td>-0.033704</td>\n",
       "      <td>-0.071313</td>\n",
       "      <td>-0.019349</td>\n",
       "      <td>0.116751</td>\n",
       "      <td>-0.024593</td>\n",
       "      <td>-0.044327</td>\n",
       "      <td>NaN</td>\n",
       "      <td>0.036585</td>\n",
       "      <td>0.002749</td>\n",
       "      <td>0.180392</td>\n",
       "      <td>-0.136808</td>\n",
       "    </tr>\n",
       "    <tr>\n",
       "      <th>edge_follow</th>\n",
       "      <td>-0.054259</td>\n",
       "      <td>1.000000</td>\n",
       "      <td>-0.112940</td>\n",
       "      <td>0.160248</td>\n",
       "      <td>0.104735</td>\n",
       "      <td>-0.089677</td>\n",
       "      <td>-0.072626</td>\n",
       "      <td>-0.133170</td>\n",
       "      <td>NaN</td>\n",
       "      <td>-0.132422</td>\n",
       "      <td>0.002723</td>\n",
       "      <td>-0.108482</td>\n",
       "      <td>0.272649</td>\n",
       "    </tr>\n",
       "    <tr>\n",
       "      <th>username_length</th>\n",
       "      <td>-0.033704</td>\n",
       "      <td>-0.112940</td>\n",
       "      <td>1.000000</td>\n",
       "      <td>-0.160610</td>\n",
       "      <td>-0.021410</td>\n",
       "      <td>0.277052</td>\n",
       "      <td>0.117582</td>\n",
       "      <td>-0.099414</td>\n",
       "      <td>NaN</td>\n",
       "      <td>0.132683</td>\n",
       "      <td>-0.006861</td>\n",
       "      <td>0.112466</td>\n",
       "      <td>-0.151752</td>\n",
       "    </tr>\n",
       "    <tr>\n",
       "      <th>username_has_number</th>\n",
       "      <td>-0.071313</td>\n",
       "      <td>0.160248</td>\n",
       "      <td>-0.160610</td>\n",
       "      <td>1.000000</td>\n",
       "      <td>0.217852</td>\n",
       "      <td>-0.246511</td>\n",
       "      <td>-0.154072</td>\n",
       "      <td>0.127046</td>\n",
       "      <td>NaN</td>\n",
       "      <td>-0.278637</td>\n",
       "      <td>-0.048097</td>\n",
       "      <td>-0.237466</td>\n",
       "      <td>0.370164</td>\n",
       "    </tr>\n",
       "    <tr>\n",
       "      <th>full_name_has_number</th>\n",
       "      <td>-0.019349</td>\n",
       "      <td>0.104735</td>\n",
       "      <td>-0.021410</td>\n",
       "      <td>0.217852</td>\n",
       "      <td>1.000000</td>\n",
       "      <td>0.250275</td>\n",
       "      <td>-0.072366</td>\n",
       "      <td>0.066941</td>\n",
       "      <td>NaN</td>\n",
       "      <td>-0.083482</td>\n",
       "      <td>-0.012527</td>\n",
       "      <td>-0.039926</td>\n",
       "      <td>0.128588</td>\n",
       "    </tr>\n",
       "    <tr>\n",
       "      <th>full_name_length</th>\n",
       "      <td>0.116751</td>\n",
       "      <td>-0.089677</td>\n",
       "      <td>0.277052</td>\n",
       "      <td>-0.246511</td>\n",
       "      <td>0.250275</td>\n",
       "      <td>1.000000</td>\n",
       "      <td>0.064409</td>\n",
       "      <td>-0.216572</td>\n",
       "      <td>NaN</td>\n",
       "      <td>0.323137</td>\n",
       "      <td>0.122848</td>\n",
       "      <td>0.309318</td>\n",
       "      <td>-0.350433</td>\n",
       "    </tr>\n",
       "    <tr>\n",
       "      <th>is_private</th>\n",
       "      <td>-0.024593</td>\n",
       "      <td>-0.072626</td>\n",
       "      <td>0.117582</td>\n",
       "      <td>-0.154072</td>\n",
       "      <td>-0.072366</td>\n",
       "      <td>0.064409</td>\n",
       "      <td>1.000000</td>\n",
       "      <td>-0.071448</td>\n",
       "      <td>NaN</td>\n",
       "      <td>-0.134444</td>\n",
       "      <td>-0.016999</td>\n",
       "      <td>-0.041399</td>\n",
       "      <td>-0.262292</td>\n",
       "    </tr>\n",
       "    <tr>\n",
       "      <th>is_joined_recently</th>\n",
       "      <td>-0.044327</td>\n",
       "      <td>-0.133170</td>\n",
       "      <td>-0.099414</td>\n",
       "      <td>0.127046</td>\n",
       "      <td>0.066941</td>\n",
       "      <td>-0.216572</td>\n",
       "      <td>-0.071448</td>\n",
       "      <td>1.000000</td>\n",
       "      <td>NaN</td>\n",
       "      <td>-0.172122</td>\n",
       "      <td>-0.026889</td>\n",
       "      <td>-0.150433</td>\n",
       "      <td>0.276012</td>\n",
       "    </tr>\n",
       "    <tr>\n",
       "      <th>has_channel</th>\n",
       "      <td>NaN</td>\n",
       "      <td>NaN</td>\n",
       "      <td>NaN</td>\n",
       "      <td>NaN</td>\n",
       "      <td>NaN</td>\n",
       "      <td>NaN</td>\n",
       "      <td>NaN</td>\n",
       "      <td>NaN</td>\n",
       "      <td>NaN</td>\n",
       "      <td>NaN</td>\n",
       "      <td>NaN</td>\n",
       "      <td>NaN</td>\n",
       "      <td>NaN</td>\n",
       "    </tr>\n",
       "    <tr>\n",
       "      <th>is_business_account</th>\n",
       "      <td>0.036585</td>\n",
       "      <td>-0.132422</td>\n",
       "      <td>0.132683</td>\n",
       "      <td>-0.278637</td>\n",
       "      <td>-0.083482</td>\n",
       "      <td>0.323137</td>\n",
       "      <td>-0.134444</td>\n",
       "      <td>-0.172122</td>\n",
       "      <td>NaN</td>\n",
       "      <td>1.000000</td>\n",
       "      <td>0.126443</td>\n",
       "      <td>0.289467</td>\n",
       "      <td>-0.318395</td>\n",
       "    </tr>\n",
       "    <tr>\n",
       "      <th>has_guides</th>\n",
       "      <td>0.002749</td>\n",
       "      <td>0.002723</td>\n",
       "      <td>-0.006861</td>\n",
       "      <td>-0.048097</td>\n",
       "      <td>-0.012527</td>\n",
       "      <td>0.122848</td>\n",
       "      <td>-0.016999</td>\n",
       "      <td>-0.026889</td>\n",
       "      <td>NaN</td>\n",
       "      <td>0.126443</td>\n",
       "      <td>1.000000</td>\n",
       "      <td>0.138415</td>\n",
       "      <td>-0.097421</td>\n",
       "    </tr>\n",
       "    <tr>\n",
       "      <th>has_external_url</th>\n",
       "      <td>0.180392</td>\n",
       "      <td>-0.108482</td>\n",
       "      <td>0.112466</td>\n",
       "      <td>-0.237466</td>\n",
       "      <td>-0.039926</td>\n",
       "      <td>0.309318</td>\n",
       "      <td>-0.041399</td>\n",
       "      <td>-0.150433</td>\n",
       "      <td>NaN</td>\n",
       "      <td>0.289467</td>\n",
       "      <td>0.138415</td>\n",
       "      <td>1.000000</td>\n",
       "      <td>-0.426830</td>\n",
       "    </tr>\n",
       "    <tr>\n",
       "      <th>is_fake</th>\n",
       "      <td>-0.136808</td>\n",
       "      <td>0.272649</td>\n",
       "      <td>-0.151752</td>\n",
       "      <td>0.370164</td>\n",
       "      <td>0.128588</td>\n",
       "      <td>-0.350433</td>\n",
       "      <td>-0.262292</td>\n",
       "      <td>0.276012</td>\n",
       "      <td>NaN</td>\n",
       "      <td>-0.318395</td>\n",
       "      <td>-0.097421</td>\n",
       "      <td>-0.426830</td>\n",
       "      <td>1.000000</td>\n",
       "    </tr>\n",
       "  </tbody>\n",
       "</table>\n",
       "</div>"
      ],
      "text/plain": [
       "                      edge_followed_by  edge_follow  username_length  \\\n",
       "edge_followed_by              1.000000    -0.054259        -0.033704   \n",
       "edge_follow                  -0.054259     1.000000        -0.112940   \n",
       "username_length              -0.033704    -0.112940         1.000000   \n",
       "username_has_number          -0.071313     0.160248        -0.160610   \n",
       "full_name_has_number         -0.019349     0.104735        -0.021410   \n",
       "full_name_length              0.116751    -0.089677         0.277052   \n",
       "is_private                   -0.024593    -0.072626         0.117582   \n",
       "is_joined_recently           -0.044327    -0.133170        -0.099414   \n",
       "has_channel                        NaN          NaN              NaN   \n",
       "is_business_account           0.036585    -0.132422         0.132683   \n",
       "has_guides                    0.002749     0.002723        -0.006861   \n",
       "has_external_url              0.180392    -0.108482         0.112466   \n",
       "is_fake                      -0.136808     0.272649        -0.151752   \n",
       "\n",
       "                      username_has_number  full_name_has_number  \\\n",
       "edge_followed_by                -0.071313             -0.019349   \n",
       "edge_follow                      0.160248              0.104735   \n",
       "username_length                 -0.160610             -0.021410   \n",
       "username_has_number              1.000000              0.217852   \n",
       "full_name_has_number             0.217852              1.000000   \n",
       "full_name_length                -0.246511              0.250275   \n",
       "is_private                      -0.154072             -0.072366   \n",
       "is_joined_recently               0.127046              0.066941   \n",
       "has_channel                           NaN                   NaN   \n",
       "is_business_account             -0.278637             -0.083482   \n",
       "has_guides                      -0.048097             -0.012527   \n",
       "has_external_url                -0.237466             -0.039926   \n",
       "is_fake                          0.370164              0.128588   \n",
       "\n",
       "                      full_name_length  is_private  is_joined_recently  \\\n",
       "edge_followed_by              0.116751   -0.024593           -0.044327   \n",
       "edge_follow                  -0.089677   -0.072626           -0.133170   \n",
       "username_length               0.277052    0.117582           -0.099414   \n",
       "username_has_number          -0.246511   -0.154072            0.127046   \n",
       "full_name_has_number          0.250275   -0.072366            0.066941   \n",
       "full_name_length              1.000000    0.064409           -0.216572   \n",
       "is_private                    0.064409    1.000000           -0.071448   \n",
       "is_joined_recently           -0.216572   -0.071448            1.000000   \n",
       "has_channel                        NaN         NaN                 NaN   \n",
       "is_business_account           0.323137   -0.134444           -0.172122   \n",
       "has_guides                    0.122848   -0.016999           -0.026889   \n",
       "has_external_url              0.309318   -0.041399           -0.150433   \n",
       "is_fake                      -0.350433   -0.262292            0.276012   \n",
       "\n",
       "                      has_channel  is_business_account  has_guides  \\\n",
       "edge_followed_by              NaN             0.036585    0.002749   \n",
       "edge_follow                   NaN            -0.132422    0.002723   \n",
       "username_length               NaN             0.132683   -0.006861   \n",
       "username_has_number           NaN            -0.278637   -0.048097   \n",
       "full_name_has_number          NaN            -0.083482   -0.012527   \n",
       "full_name_length              NaN             0.323137    0.122848   \n",
       "is_private                    NaN            -0.134444   -0.016999   \n",
       "is_joined_recently            NaN            -0.172122   -0.026889   \n",
       "has_channel                   NaN                  NaN         NaN   \n",
       "is_business_account           NaN             1.000000    0.126443   \n",
       "has_guides                    NaN             0.126443    1.000000   \n",
       "has_external_url              NaN             0.289467    0.138415   \n",
       "is_fake                       NaN            -0.318395   -0.097421   \n",
       "\n",
       "                      has_external_url   is_fake  \n",
       "edge_followed_by              0.180392 -0.136808  \n",
       "edge_follow                  -0.108482  0.272649  \n",
       "username_length               0.112466 -0.151752  \n",
       "username_has_number          -0.237466  0.370164  \n",
       "full_name_has_number         -0.039926  0.128588  \n",
       "full_name_length              0.309318 -0.350433  \n",
       "is_private                   -0.041399 -0.262292  \n",
       "is_joined_recently           -0.150433  0.276012  \n",
       "has_channel                        NaN       NaN  \n",
       "is_business_account           0.289467 -0.318395  \n",
       "has_guides                    0.138415 -0.097421  \n",
       "has_external_url              1.000000 -0.426830  \n",
       "is_fake                      -0.426830  1.000000  "
      ]
     },
     "execution_count": 10,
     "metadata": {},
     "output_type": "execute_result"
    }
   ],
   "source": [
    "df.corr()"
   ]
  },
  {
   "cell_type": "code",
   "execution_count": 11,
   "id": "28241af3",
   "metadata": {
    "execution": {
     "iopub.execute_input": "2024-02-15T14:39:28.638352Z",
     "iopub.status.busy": "2024-02-15T14:39:28.637702Z",
     "iopub.status.idle": "2024-02-15T14:39:28.646079Z",
     "shell.execute_reply": "2024-02-15T14:39:28.645006Z"
    },
    "papermill": {
     "duration": 0.021041,
     "end_time": "2024-02-15T14:39:28.648382",
     "exception": false,
     "start_time": "2024-02-15T14:39:28.627341",
     "status": "completed"
    },
    "tags": []
   },
   "outputs": [
    {
     "data": {
      "text/plain": [
       "edge_followed_by        0\n",
       "edge_follow             0\n",
       "username_length         0\n",
       "username_has_number     0\n",
       "full_name_has_number    0\n",
       "full_name_length        0\n",
       "is_private              0\n",
       "is_joined_recently      0\n",
       "has_channel             0\n",
       "is_business_account     0\n",
       "has_guides              0\n",
       "has_external_url        0\n",
       "is_fake                 0\n",
       "dtype: int64"
      ]
     },
     "execution_count": 11,
     "metadata": {},
     "output_type": "execute_result"
    }
   ],
   "source": [
    "#Cheking for missing\n",
    "df.isnull().sum()"
   ]
  },
  {
   "cell_type": "code",
   "execution_count": 12,
   "id": "6ef543a1",
   "metadata": {
    "execution": {
     "iopub.execute_input": "2024-02-15T14:39:28.668331Z",
     "iopub.status.busy": "2024-02-15T14:39:28.667703Z",
     "iopub.status.idle": "2024-02-15T14:39:28.716538Z",
     "shell.execute_reply": "2024-02-15T14:39:28.715433Z"
    },
    "papermill": {
     "duration": 0.061381,
     "end_time": "2024-02-15T14:39:28.718789",
     "exception": false,
     "start_time": "2024-02-15T14:39:28.657408",
     "status": "completed"
    },
    "tags": []
   },
   "outputs": [
    {
     "data": {
      "text/html": [
       "<div>\n",
       "<style scoped>\n",
       "    .dataframe tbody tr th:only-of-type {\n",
       "        vertical-align: middle;\n",
       "    }\n",
       "\n",
       "    .dataframe tbody tr th {\n",
       "        vertical-align: top;\n",
       "    }\n",
       "\n",
       "    .dataframe thead th {\n",
       "        text-align: right;\n",
       "    }\n",
       "</style>\n",
       "<table border=\"1\" class=\"dataframe\">\n",
       "  <thead>\n",
       "    <tr style=\"text-align: right;\">\n",
       "      <th></th>\n",
       "      <th>count</th>\n",
       "      <th>mean</th>\n",
       "      <th>std</th>\n",
       "      <th>min</th>\n",
       "      <th>25%</th>\n",
       "      <th>50%</th>\n",
       "      <th>75%</th>\n",
       "      <th>max</th>\n",
       "    </tr>\n",
       "  </thead>\n",
       "  <tbody>\n",
       "    <tr>\n",
       "      <th>edge_followed_by</th>\n",
       "      <td>785.0</td>\n",
       "      <td>0.002223</td>\n",
       "      <td>0.036105</td>\n",
       "      <td>0.0</td>\n",
       "      <td>0.000</td>\n",
       "      <td>0.000</td>\n",
       "      <td>0.000</td>\n",
       "      <td>1.0</td>\n",
       "    </tr>\n",
       "    <tr>\n",
       "      <th>edge_follow</th>\n",
       "      <td>785.0</td>\n",
       "      <td>0.401606</td>\n",
       "      <td>0.293845</td>\n",
       "      <td>0.0</td>\n",
       "      <td>0.135</td>\n",
       "      <td>0.336</td>\n",
       "      <td>0.623</td>\n",
       "      <td>1.0</td>\n",
       "    </tr>\n",
       "    <tr>\n",
       "      <th>username_length</th>\n",
       "      <td>785.0</td>\n",
       "      <td>11.630573</td>\n",
       "      <td>3.284329</td>\n",
       "      <td>5.0</td>\n",
       "      <td>9.000</td>\n",
       "      <td>11.000</td>\n",
       "      <td>13.000</td>\n",
       "      <td>26.0</td>\n",
       "    </tr>\n",
       "    <tr>\n",
       "      <th>username_has_number</th>\n",
       "      <td>785.0</td>\n",
       "      <td>0.644586</td>\n",
       "      <td>0.478944</td>\n",
       "      <td>0.0</td>\n",
       "      <td>0.000</td>\n",
       "      <td>1.000</td>\n",
       "      <td>1.000</td>\n",
       "      <td>1.0</td>\n",
       "    </tr>\n",
       "    <tr>\n",
       "      <th>full_name_has_number</th>\n",
       "      <td>785.0</td>\n",
       "      <td>0.109554</td>\n",
       "      <td>0.312532</td>\n",
       "      <td>0.0</td>\n",
       "      <td>0.000</td>\n",
       "      <td>0.000</td>\n",
       "      <td>0.000</td>\n",
       "      <td>1.0</td>\n",
       "    </tr>\n",
       "    <tr>\n",
       "      <th>full_name_length</th>\n",
       "      <td>785.0</td>\n",
       "      <td>6.129936</td>\n",
       "      <td>6.943903</td>\n",
       "      <td>0.0</td>\n",
       "      <td>0.000</td>\n",
       "      <td>5.000</td>\n",
       "      <td>11.000</td>\n",
       "      <td>30.0</td>\n",
       "    </tr>\n",
       "    <tr>\n",
       "      <th>is_private</th>\n",
       "      <td>785.0</td>\n",
       "      <td>0.184713</td>\n",
       "      <td>0.388312</td>\n",
       "      <td>0.0</td>\n",
       "      <td>0.000</td>\n",
       "      <td>0.000</td>\n",
       "      <td>0.000</td>\n",
       "      <td>1.0</td>\n",
       "    </tr>\n",
       "    <tr>\n",
       "      <th>is_joined_recently</th>\n",
       "      <td>785.0</td>\n",
       "      <td>0.361783</td>\n",
       "      <td>0.480823</td>\n",
       "      <td>0.0</td>\n",
       "      <td>0.000</td>\n",
       "      <td>0.000</td>\n",
       "      <td>1.000</td>\n",
       "      <td>1.0</td>\n",
       "    </tr>\n",
       "    <tr>\n",
       "      <th>has_channel</th>\n",
       "      <td>785.0</td>\n",
       "      <td>0.000000</td>\n",
       "      <td>0.000000</td>\n",
       "      <td>0.0</td>\n",
       "      <td>0.000</td>\n",
       "      <td>0.000</td>\n",
       "      <td>0.000</td>\n",
       "      <td>0.0</td>\n",
       "    </tr>\n",
       "    <tr>\n",
       "      <th>is_business_account</th>\n",
       "      <td>785.0</td>\n",
       "      <td>0.073885</td>\n",
       "      <td>0.261751</td>\n",
       "      <td>0.0</td>\n",
       "      <td>0.000</td>\n",
       "      <td>0.000</td>\n",
       "      <td>0.000</td>\n",
       "      <td>1.0</td>\n",
       "    </tr>\n",
       "    <tr>\n",
       "      <th>has_guides</th>\n",
       "      <td>785.0</td>\n",
       "      <td>0.001274</td>\n",
       "      <td>0.035692</td>\n",
       "      <td>0.0</td>\n",
       "      <td>0.000</td>\n",
       "      <td>0.000</td>\n",
       "      <td>0.000</td>\n",
       "      <td>1.0</td>\n",
       "    </tr>\n",
       "    <tr>\n",
       "      <th>has_external_url</th>\n",
       "      <td>785.0</td>\n",
       "      <td>0.062420</td>\n",
       "      <td>0.242072</td>\n",
       "      <td>0.0</td>\n",
       "      <td>0.000</td>\n",
       "      <td>0.000</td>\n",
       "      <td>0.000</td>\n",
       "      <td>1.0</td>\n",
       "    </tr>\n",
       "    <tr>\n",
       "      <th>is_fake</th>\n",
       "      <td>785.0</td>\n",
       "      <td>0.881529</td>\n",
       "      <td>0.323371</td>\n",
       "      <td>0.0</td>\n",
       "      <td>1.000</td>\n",
       "      <td>1.000</td>\n",
       "      <td>1.000</td>\n",
       "      <td>1.0</td>\n",
       "    </tr>\n",
       "  </tbody>\n",
       "</table>\n",
       "</div>"
      ],
      "text/plain": [
       "                      count       mean       std  min    25%     50%     75%  \\\n",
       "edge_followed_by      785.0   0.002223  0.036105  0.0  0.000   0.000   0.000   \n",
       "edge_follow           785.0   0.401606  0.293845  0.0  0.135   0.336   0.623   \n",
       "username_length       785.0  11.630573  3.284329  5.0  9.000  11.000  13.000   \n",
       "username_has_number   785.0   0.644586  0.478944  0.0  0.000   1.000   1.000   \n",
       "full_name_has_number  785.0   0.109554  0.312532  0.0  0.000   0.000   0.000   \n",
       "full_name_length      785.0   6.129936  6.943903  0.0  0.000   5.000  11.000   \n",
       "is_private            785.0   0.184713  0.388312  0.0  0.000   0.000   0.000   \n",
       "is_joined_recently    785.0   0.361783  0.480823  0.0  0.000   0.000   1.000   \n",
       "has_channel           785.0   0.000000  0.000000  0.0  0.000   0.000   0.000   \n",
       "is_business_account   785.0   0.073885  0.261751  0.0  0.000   0.000   0.000   \n",
       "has_guides            785.0   0.001274  0.035692  0.0  0.000   0.000   0.000   \n",
       "has_external_url      785.0   0.062420  0.242072  0.0  0.000   0.000   0.000   \n",
       "is_fake               785.0   0.881529  0.323371  0.0  1.000   1.000   1.000   \n",
       "\n",
       "                       max  \n",
       "edge_followed_by       1.0  \n",
       "edge_follow            1.0  \n",
       "username_length       26.0  \n",
       "username_has_number    1.0  \n",
       "full_name_has_number   1.0  \n",
       "full_name_length      30.0  \n",
       "is_private             1.0  \n",
       "is_joined_recently     1.0  \n",
       "has_channel            0.0  \n",
       "is_business_account    1.0  \n",
       "has_guides             1.0  \n",
       "has_external_url       1.0  \n",
       "is_fake                1.0  "
      ]
     },
     "execution_count": 12,
     "metadata": {},
     "output_type": "execute_result"
    }
   ],
   "source": [
    "#Statistical summary\n",
    "df.describe().T"
   ]
  },
  {
   "cell_type": "code",
   "execution_count": 13,
   "id": "e1e10f0d",
   "metadata": {
    "execution": {
     "iopub.execute_input": "2024-02-15T14:39:28.739232Z",
     "iopub.status.busy": "2024-02-15T14:39:28.738848Z",
     "iopub.status.idle": "2024-02-15T14:39:28.747695Z",
     "shell.execute_reply": "2024-02-15T14:39:28.746464Z"
    },
    "papermill": {
     "duration": 0.021903,
     "end_time": "2024-02-15T14:39:28.749986",
     "exception": false,
     "start_time": "2024-02-15T14:39:28.728083",
     "status": "completed"
    },
    "tags": []
   },
   "outputs": [],
   "source": [
    "df.drop([\"has_guides\"],axis=1,inplace=True)\n",
    "df.drop([\"edge_follow\"],axis=1,inplace=True)\n",
    "df.drop([\"has_channel\"],axis=1,inplace=True)\n",
    "df.drop([\"edge_followed_by\"],axis=1,inplace=True)"
   ]
  },
  {
   "cell_type": "code",
   "execution_count": 14,
   "id": "bf62d6cd",
   "metadata": {
    "execution": {
     "iopub.execute_input": "2024-02-15T14:39:28.770504Z",
     "iopub.status.busy": "2024-02-15T14:39:28.770099Z",
     "iopub.status.idle": "2024-02-15T14:39:28.782464Z",
     "shell.execute_reply": "2024-02-15T14:39:28.781184Z"
    },
    "papermill": {
     "duration": 0.025262,
     "end_time": "2024-02-15T14:39:28.784588",
     "exception": false,
     "start_time": "2024-02-15T14:39:28.759326",
     "status": "completed"
    },
    "tags": []
   },
   "outputs": [
    {
     "data": {
      "text/html": [
       "<div>\n",
       "<style scoped>\n",
       "    .dataframe tbody tr th:only-of-type {\n",
       "        vertical-align: middle;\n",
       "    }\n",
       "\n",
       "    .dataframe tbody tr th {\n",
       "        vertical-align: top;\n",
       "    }\n",
       "\n",
       "    .dataframe thead th {\n",
       "        text-align: right;\n",
       "    }\n",
       "</style>\n",
       "<table border=\"1\" class=\"dataframe\">\n",
       "  <thead>\n",
       "    <tr style=\"text-align: right;\">\n",
       "      <th></th>\n",
       "      <th>username_length</th>\n",
       "      <th>username_has_number</th>\n",
       "      <th>full_name_has_number</th>\n",
       "      <th>full_name_length</th>\n",
       "      <th>is_private</th>\n",
       "      <th>is_joined_recently</th>\n",
       "      <th>is_business_account</th>\n",
       "      <th>has_external_url</th>\n",
       "      <th>is_fake</th>\n",
       "    </tr>\n",
       "  </thead>\n",
       "  <tbody>\n",
       "    <tr>\n",
       "      <th>0</th>\n",
       "      <td>13</td>\n",
       "      <td>1</td>\n",
       "      <td>1</td>\n",
       "      <td>13</td>\n",
       "      <td>0</td>\n",
       "      <td>0</td>\n",
       "      <td>0</td>\n",
       "      <td>0</td>\n",
       "      <td>1</td>\n",
       "    </tr>\n",
       "    <tr>\n",
       "      <th>1</th>\n",
       "      <td>9</td>\n",
       "      <td>1</td>\n",
       "      <td>0</td>\n",
       "      <td>0</td>\n",
       "      <td>0</td>\n",
       "      <td>1</td>\n",
       "      <td>0</td>\n",
       "      <td>0</td>\n",
       "      <td>1</td>\n",
       "    </tr>\n",
       "    <tr>\n",
       "      <th>2</th>\n",
       "      <td>12</td>\n",
       "      <td>0</td>\n",
       "      <td>0</td>\n",
       "      <td>0</td>\n",
       "      <td>0</td>\n",
       "      <td>0</td>\n",
       "      <td>0</td>\n",
       "      <td>0</td>\n",
       "      <td>1</td>\n",
       "    </tr>\n",
       "    <tr>\n",
       "      <th>3</th>\n",
       "      <td>10</td>\n",
       "      <td>1</td>\n",
       "      <td>0</td>\n",
       "      <td>0</td>\n",
       "      <td>0</td>\n",
       "      <td>0</td>\n",
       "      <td>0</td>\n",
       "      <td>0</td>\n",
       "      <td>1</td>\n",
       "    </tr>\n",
       "    <tr>\n",
       "      <th>4</th>\n",
       "      <td>11</td>\n",
       "      <td>0</td>\n",
       "      <td>0</td>\n",
       "      <td>11</td>\n",
       "      <td>1</td>\n",
       "      <td>0</td>\n",
       "      <td>0</td>\n",
       "      <td>0</td>\n",
       "      <td>1</td>\n",
       "    </tr>\n",
       "  </tbody>\n",
       "</table>\n",
       "</div>"
      ],
      "text/plain": [
       "   username_length  username_has_number  full_name_has_number  \\\n",
       "0               13                    1                     1   \n",
       "1                9                    1                     0   \n",
       "2               12                    0                     0   \n",
       "3               10                    1                     0   \n",
       "4               11                    0                     0   \n",
       "\n",
       "   full_name_length  is_private  is_joined_recently  is_business_account  \\\n",
       "0                13           0                   0                    0   \n",
       "1                 0           0                   1                    0   \n",
       "2                 0           0                   0                    0   \n",
       "3                 0           0                   0                    0   \n",
       "4                11           1                   0                    0   \n",
       "\n",
       "   has_external_url  is_fake  \n",
       "0                 0        1  \n",
       "1                 0        1  \n",
       "2                 0        1  \n",
       "3                 0        1  \n",
       "4                 0        1  "
      ]
     },
     "execution_count": 14,
     "metadata": {},
     "output_type": "execute_result"
    }
   ],
   "source": [
    "df.head(5)"
   ]
  },
  {
   "cell_type": "markdown",
   "id": "b2c68195",
   "metadata": {
    "papermill": {
     "duration": 0.009502,
     "end_time": "2024-02-15T14:39:28.803861",
     "exception": false,
     "start_time": "2024-02-15T14:39:28.794359",
     "status": "completed"
    },
    "tags": []
   },
   "source": [
    "\n",
    "<div align=\"center\" style=\"background: purple; color: white; padding: 10px; border-top-left-radius: 20px; border-top-right-radius: 0px; border-bottom-left-radius: 0px; border-bottom-right-radius: 20px;\">\n",
    "  <h1 style=\"font-size: 40px; font-weight: bold; font-family: 'Times New Roman'; margin: 0; padding: 0;\">5.Data Visualization</h1>\n",
    "</div>\n",
    "\n",
    "# Data Visualization"
   ]
  },
  {
   "cell_type": "code",
   "execution_count": 15,
   "id": "01608cb0",
   "metadata": {
    "execution": {
     "iopub.execute_input": "2024-02-15T14:39:28.825350Z",
     "iopub.status.busy": "2024-02-15T14:39:28.824396Z",
     "iopub.status.idle": "2024-02-15T14:39:28.834298Z",
     "shell.execute_reply": "2024-02-15T14:39:28.833339Z"
    },
    "papermill": {
     "duration": 0.02292,
     "end_time": "2024-02-15T14:39:28.836438",
     "exception": false,
     "start_time": "2024-02-15T14:39:28.813518",
     "status": "completed"
    },
    "tags": []
   },
   "outputs": [
    {
     "data": {
      "text/plain": [
       "is_business_account\n",
       "0    727\n",
       "1     58\n",
       "dtype: int64"
      ]
     },
     "execution_count": 15,
     "metadata": {},
     "output_type": "execute_result"
    }
   ],
   "source": [
    "account = df.groupby(\"is_business_account\")\n",
    "account = account.size()\n",
    "account"
   ]
  },
  {
   "cell_type": "code",
   "execution_count": 16,
   "id": "db7079ee",
   "metadata": {
    "execution": {
     "iopub.execute_input": "2024-02-15T14:39:28.858032Z",
     "iopub.status.busy": "2024-02-15T14:39:28.857062Z",
     "iopub.status.idle": "2024-02-15T14:39:29.045399Z",
     "shell.execute_reply": "2024-02-15T14:39:29.044062Z"
    },
    "papermill": {
     "duration": 0.204019,
     "end_time": "2024-02-15T14:39:29.050129",
     "exception": false,
     "start_time": "2024-02-15T14:39:28.846110",
     "status": "completed"
    },
    "tags": []
   },
   "outputs": [
    {
     "data": {
      "image/png": "[encoded data removed]",
      "text/plain": [
       "<Figure size 640x480 with 1 Axes>"
      ]
     },
     "metadata": {},
     "output_type": "display_data"
    }
   ],
   "source": [
    "plt.pie(account.values , labels = (\"Business Account\", \"Personal Account\"), autopct='%1.1f%%',colors=['Lavender','lightgreen'], radius = 1, textprops = {\"fontsize\" : 16}) \n",
    "plt.title(\"Account Type\", c=\"Blue\")\n",
    "plt.show()"
   ]
  },
  {
   "cell_type": "code",
   "execution_count": 17,
   "id": "1a1484c4",
   "metadata": {
    "execution": {
     "iopub.execute_input": "2024-02-15T14:39:29.089202Z",
     "iopub.status.busy": "2024-02-15T14:39:29.087384Z",
     "iopub.status.idle": "2024-02-15T14:39:29.097071Z",
     "shell.execute_reply": "2024-02-15T14:39:29.096232Z"
    },
    "papermill": {
     "duration": 0.030785,
     "end_time": "2024-02-15T14:39:29.099120",
     "exception": false,
     "start_time": "2024-02-15T14:39:29.068335",
     "status": "completed"
    },
    "tags": []
   },
   "outputs": [
    {
     "data": {
      "text/plain": [
       "is_private\n",
       "0    640\n",
       "1    145\n",
       "dtype: int64"
      ]
     },
     "execution_count": 17,
     "metadata": {},
     "output_type": "execute_result"
    }
   ],
   "source": [
    "account1 = df.groupby(\"is_private\")\n",
    "account1 = account1.size()\n",
    "account1"
   ]
  },
  {
   "cell_type": "code",
   "execution_count": 18,
   "id": "f7b8c5ed",
   "metadata": {
    "execution": {
     "iopub.execute_input": "2024-02-15T14:39:29.122319Z",
     "iopub.status.busy": "2024-02-15T14:39:29.121561Z",
     "iopub.status.idle": "2024-02-15T14:39:29.248423Z",
     "shell.execute_reply": "2024-02-15T14:39:29.247217Z"
    },
    "papermill": {
     "duration": 0.141835,
     "end_time": "2024-02-15T14:39:29.251456",
     "exception": false,
     "start_time": "2024-02-15T14:39:29.109621",
     "status": "completed"
    },
    "tags": []
   },
   "outputs": [
    {
     "data": {
      "image/png": "[encoded data removed]",
      "text/plain": [
       "<Figure size 640x480 with 1 Axes>"
      ]
     },
     "metadata": {},
     "output_type": "display_data"
    }
   ],
   "source": [
    "plt.pie(account1.values , labels = (\"Private\", \"Public\"), autopct='%1.1f%%', colors=['pink','skyblue'], radius = 1.2, textprops = {\"fontsize\" : 16}) \n",
    "plt.title(\"Account Type\", c=\"Blue\")\n",
    "plt.show()"
   ]
  },
  {
   "cell_type": "code",
   "execution_count": 19,
   "id": "4ad365c5",
   "metadata": {
    "execution": {
     "iopub.execute_input": "2024-02-15T14:39:29.293805Z",
     "iopub.status.busy": "2024-02-15T14:39:29.292873Z",
     "iopub.status.idle": "2024-02-15T14:39:29.429834Z",
     "shell.execute_reply": "2024-02-15T14:39:29.428518Z"
    },
    "papermill": {
     "duration": 0.160708,
     "end_time": "2024-02-15T14:39:29.432996",
     "exception": false,
     "start_time": "2024-02-15T14:39:29.272288",
     "status": "completed"
    },
    "tags": []
   },
   "outputs": [
    {
     "data": {
      "image/png": "[encoded data removed]",
      "text/plain": [
       "<Figure size 600x400 with 1 Axes>"
      ]
     },
     "metadata": {},
     "output_type": "display_data"
    }
   ],
   "source": [
    "fake_account_counts = df['is_fake'].value_counts()\n",
    "labels = ['Yes', 'No']\n",
    "colors = ['Skyblue', 'lightgreen']\n",
    "explode = (0.1, 0)  # Create a \"donut hole\" effect by exploding the first slice\n",
    "\n",
    "# Create a pie chart\n",
    "plt.figure(figsize=(6, 4))\n",
    "plt.pie(fake_account_counts, labels=labels, colors=colors, autopct='%1.1f%%', startangle=140, pctdistance=0.85, explode=explode)\n",
    "plt.title('Fake Accounts Distribution', fontsize=16)\n",
    "\n",
    "# Draw a circle in the center to create a donut chart\n",
    "centre_circle = plt.Circle((0,0),0.70,fc='white')\n",
    "fig = plt.gcf()\n",
    "fig.gca().add_artist(centre_circle)\n",
    "\n",
    "plt.axis('equal')  # Equal aspect ratio ensures that pie is drawn as a circle.\n",
    "\n",
    "plt.show()"
   ]
  },
  {
   "cell_type": "code",
   "execution_count": 20,
   "id": "7a76c9b5",
   "metadata": {
    "execution": {
     "iopub.execute_input": "2024-02-15T14:39:29.474506Z",
     "iopub.status.busy": "2024-02-15T14:39:29.474119Z",
     "iopub.status.idle": "2024-02-15T14:39:29.673861Z",
     "shell.execute_reply": "2024-02-15T14:39:29.672622Z"
    },
    "papermill": {
     "duration": 0.223205,
     "end_time": "2024-02-15T14:39:29.676362",
     "exception": false,
     "start_time": "2024-02-15T14:39:29.453157",
     "status": "completed"
    },
    "tags": []
   },
   "outputs": [
    {
     "data": {
      "image/png": "[encoded data removed]",
      "text/plain": [
       "<Figure size 400x400 with 1 Axes>"
      ]
     },
     "metadata": {},
     "output_type": "display_data"
    }
   ],
   "source": [
    "def barplot(column, horizontal):\n",
    "    plt.figure(figsize=(4, 4))\n",
    "    sns.countplot(x=column, data=df, palette='viridis')\n",
    "    plt.xlabel(column)\n",
    "    plt.ylabel(\"Fake\")\n",
    "    plt.title(f\"Users have Business Account\", fontweight='bold')\n",
    "    plt.xticks(rotation=45)\n",
    "    sns.despine()\n",
    "    plt.tight_layout()\n",
    "    plt.show()\n",
    "\n",
    "barplot('is_business_account', True)"
   ]
  },
  {
   "cell_type": "code",
   "execution_count": 21,
   "id": "6628045c",
   "metadata": {
    "execution": {
     "iopub.execute_input": "2024-02-15T14:39:29.700709Z",
     "iopub.status.busy": "2024-02-15T14:39:29.700331Z",
     "iopub.status.idle": "2024-02-15T14:39:29.875988Z",
     "shell.execute_reply": "2024-02-15T14:39:29.874806Z"
    },
    "papermill": {
     "duration": 0.191078,
     "end_time": "2024-02-15T14:39:29.878702",
     "exception": false,
     "start_time": "2024-02-15T14:39:29.687624",
     "status": "completed"
    },
    "tags": []
   },
   "outputs": [
    {
     "data": {
      "image/png": "[encoded data removed]",
      "text/plain": [
       "<Figure size 400x400 with 1 Axes>"
      ]
     },
     "metadata": {},
     "output_type": "display_data"
    }
   ],
   "source": [
    "def barplot(column, horizontal):\n",
    "    plt.figure(figsize=(4, 4))\n",
    "    sns.countplot(x=column, data=df, palette='viridis')\n",
    "    plt.xlabel(column)\n",
    "    plt.ylabel(\"Fake\")\n",
    "    plt.title(f\"Private Account\", fontweight='bold')\n",
    "    plt.xticks(rotation=45)\n",
    "    sns.despine()\n",
    "    plt.tight_layout()\n",
    "    plt.show()\n",
    "\n",
    "barplot('is_private', True)"
   ]
  },
  {
   "cell_type": "code",
   "execution_count": 22,
   "id": "c3a2efcb",
   "metadata": {
    "execution": {
     "iopub.execute_input": "2024-02-15T14:39:29.904253Z",
     "iopub.status.busy": "2024-02-15T14:39:29.903204Z",
     "iopub.status.idle": "2024-02-15T14:39:30.073777Z",
     "shell.execute_reply": "2024-02-15T14:39:30.072573Z"
    },
    "papermill": {
     "duration": 0.185744,
     "end_time": "2024-02-15T14:39:30.075960",
     "exception": false,
     "start_time": "2024-02-15T14:39:29.890216",
     "status": "completed"
    },
    "tags": []
   },
   "outputs": [
    {
     "data": {
      "image/png": "[encoded data removed]",
      "text/plain": [
       "<Figure size 400x400 with 1 Axes>"
      ]
     },
     "metadata": {},
     "output_type": "display_data"
    }
   ],
   "source": [
    "def barplot(column, horizontal):\n",
    "    plt.figure(figsize=(4, 4))\n",
    "    sns.countplot(x=column, data=df, palette='viridis')\n",
    "    plt.xlabel(column)\n",
    "    plt.ylabel(\"Fake\")\n",
    "    plt.title(f\"User name has number\", fontweight='bold')\n",
    "    plt.xticks(rotation=45)\n",
    "    sns.despine()\n",
    "    plt.tight_layout()\n",
    "    plt.show()\n",
    "\n",
    "barplot('username_has_number', True)"
   ]
  },
  {
   "cell_type": "code",
   "execution_count": 23,
   "id": "583855a2",
   "metadata": {
    "execution": {
     "iopub.execute_input": "2024-02-15T14:39:30.102107Z",
     "iopub.status.busy": "2024-02-15T14:39:30.101428Z",
     "iopub.status.idle": "2024-02-15T14:39:30.287800Z",
     "shell.execute_reply": "2024-02-15T14:39:30.286683Z"
    },
    "papermill": {
     "duration": 0.202789,
     "end_time": "2024-02-15T14:39:30.290914",
     "exception": false,
     "start_time": "2024-02-15T14:39:30.088125",
     "status": "completed"
    },
    "tags": []
   },
   "outputs": [
    {
     "data": {
      "image/png": "[encoded data removed]",
      "text/plain": [
       "<Figure size 400x400 with 1 Axes>"
      ]
     },
     "metadata": {},
     "output_type": "display_data"
    }
   ],
   "source": [
    "def barplot(column, horizontal):\n",
    "    plt.figure(figsize=(4, 4))\n",
    "    sns.countplot(x=column, data=df, palette='viridis')\n",
    "    plt.xlabel(column)\n",
    "    plt.ylabel(\"Fake\")\n",
    "    plt.title(f\"User's full Name Has Number\", fontweight='bold')\n",
    "    plt.xticks(rotation=45)\n",
    "    sns.despine()\n",
    "    plt.tight_layout()\n",
    "    plt.show()\n",
    "\n",
    "barplot('full_name_has_number', True)"
   ]
  },
  {
   "cell_type": "code",
   "execution_count": 24,
   "id": "54e31040",
   "metadata": {
    "execution": {
     "iopub.execute_input": "2024-02-15T14:39:30.318232Z",
     "iopub.status.busy": "2024-02-15T14:39:30.317783Z",
     "iopub.status.idle": "2024-02-15T14:39:30.487627Z",
     "shell.execute_reply": "2024-02-15T14:39:30.486366Z"
    },
    "papermill": {
     "duration": 0.185831,
     "end_time": "2024-02-15T14:39:30.489809",
     "exception": false,
     "start_time": "2024-02-15T14:39:30.303978",
     "status": "completed"
    },
    "tags": []
   },
   "outputs": [
    {
     "data": {
      "image/png": "[encoded data removed]",
      "text/plain": [
       "<Figure size 400x400 with 1 Axes>"
      ]
     },
     "metadata": {},
     "output_type": "display_data"
    }
   ],
   "source": [
    "def barplot(column, horizontal):\n",
    "    plt.figure(figsize=(4, 4))\n",
    "    sns.countplot(x=column, data=df, palette='viridis')\n",
    "    plt.xlabel(column)\n",
    "    plt.ylabel(\"Fake\")\n",
    "    plt.title(f\"Users are Joined Recently\", fontweight='bold')\n",
    "    plt.xticks(rotation=45)\n",
    "    sns.despine()\n",
    "    plt.tight_layout()\n",
    "    plt.show()\n",
    "\n",
    "barplot('is_joined_recently', True)"
   ]
  },
  {
   "cell_type": "code",
   "execution_count": 25,
   "id": "dc4306ef",
   "metadata": {
    "execution": {
     "iopub.execute_input": "2024-02-15T14:39:30.517639Z",
     "iopub.status.busy": "2024-02-15T14:39:30.516658Z",
     "iopub.status.idle": "2024-02-15T14:39:30.838653Z",
     "shell.execute_reply": "2024-02-15T14:39:30.837534Z"
    },
    "papermill": {
     "duration": 0.338155,
     "end_time": "2024-02-15T14:39:30.840828",
     "exception": false,
     "start_time": "2024-02-15T14:39:30.502673",
     "status": "completed"
    },
    "tags": []
   },
   "outputs": [
    {
     "data": {
      "image/png": "[encoded data removed]",
      "text/plain": [
       "<Figure size 600x600 with 1 Axes>"
      ]
     },
     "metadata": {},
     "output_type": "display_data"
    }
   ],
   "source": [
    "def barplot(column, horizontal):\n",
    "    plt.figure(figsize=(6, 6))\n",
    "    sns.countplot(x=column, data=df, palette='viridis')\n",
    "    plt.xlabel(column)\n",
    "    plt.ylabel(\"Fake\")\n",
    "    plt.title(f\"User's full name length\", fontweight='bold')\n",
    "    plt.xticks(rotation=45)\n",
    "    sns.despine()\n",
    "    plt.tight_layout()\n",
    "    plt.show()\n",
    "\n",
    "barplot('username_length', True)"
   ]
  },
  {
   "cell_type": "markdown",
   "id": "800de333",
   "metadata": {
    "papermill": {
     "duration": 0.012753,
     "end_time": "2024-02-15T14:39:30.866362",
     "exception": false,
     "start_time": "2024-02-15T14:39:30.853609",
     "status": "completed"
    },
    "tags": []
   },
   "source": [
    "\n",
    "<div align=\"center\" style=\"background: purple; color: white; padding: 10px; border-top-left-radius: 20px; border-top-right-radius: 0px; border-bottom-left-radius: 0px; border-bottom-right-radius: 20px;\">\n",
    "  <h1 style=\"font-size: 40px; font-weight: bold; font-family: 'Times New Roman'; margin: 0; padding: 0;\">6.Insights</h1>\n",
    "</div>\n",
    "\n",
    "\n",
    "<right>\n",
    "<h1 style=\"background-color:Lavender; color:black; font-size:20px; font-family:Roman; border-radius: 10px;\">\n",
    "    \n",
    "\n",
    "**1.Business Account:**   Users with non-business accounts tend to have a higher ratio of fake accounts.\n",
    "    \n",
    "    \n",
    "**2.Private/Public Accounts:**   Users with public accounts have a higher ratio of fake accounts.\n",
    "    \n",
    "    \n",
    "**3.Username Has Number:**   Users with names containing numbers have a slightly higher ratio of fake accounts.\n",
    "    \n",
    "    \n",
    "**4.Full Name Characteristics:**   Users with names containing numbers have a slightly higher ratio of fake accounts.\n",
    "    \n",
    "    \n",
    "**5.Recently Joined:**   Users who have not recently joined have higher ratio of fake accounts.\n",
    "    \n",
    "    \n",
    "**6.Username Length:**   Users with shorter usernames tend to have a higher ratio of fake accounts.\n",
    "    </h1>\n",
    "</right>\n"
   ]
  },
  {
   "cell_type": "markdown",
   "id": "6cd39029",
   "metadata": {
    "papermill": {
     "duration": 0.012767,
     "end_time": "2024-02-15T14:39:30.891906",
     "exception": false,
     "start_time": "2024-02-15T14:39:30.879139",
     "status": "completed"
    },
    "tags": []
   },
   "source": [
    "\n",
    "<div align=\"center\" style=\"background: purple; color: white; padding: 10px; border-top-left-radius: 20px; border-top-right-radius: 0px; border-bottom-left-radius: 0px; border-bottom-right-radius: 20px;\">\n",
    "  <h1 style=\"font-size: 40px; font-weight: bold; font-family: 'Times New Roman'; margin: 0; padding: 0;\">7.Conclusion</h1>\n",
    "</div>\n",
    "\n",
    "\n",
    "# Conclusion\n",
    "\n",
    "<right>\n",
    "<h1 style=\"background-color:Lavender; color:black; font-size:20px; font-family:Roman; border-radius: 10px;\">\n",
    "    \n",
    "This Instagram user behavior analysis project provides valuable insights into account authenticity, user characteristics, and their impact on fake/real accounts. The project helps identify trends and patterns that can assist in understanding user behavior on the platform and contribute to enhancing user experience and privacy.  </h1>\n",
    "</right>\n"
   ]
  },
  {
   "cell_type": "markdown",
   "id": "80abfe85",
   "metadata": {
    "papermill": {
     "duration": 0.012553,
     "end_time": "2024-02-15T14:39:30.917496",
     "exception": false,
     "start_time": "2024-02-15T14:39:30.904943",
     "status": "completed"
    },
    "tags": []
   },
   "source": [
    "# Request for Feedback\n",
    "Thank you for taking the time to review my notebook! I'd greatly appreciate your feedback on the following aspects:\n",
    "\n",
    "1. Data preprocessing: Did I miss any critical steps?\n",
    "2. Correct Method: Is the chosen analytical approach appropriate for this problem?\n",
    "3. Clarity: Is my explanation clear and easy to follow?\n",
    "\n",
    "Your insights will help me improve this analysis. Feel free to comment directly on the notebook or reach out to me. Thank you!"
   ]
  }
 ],
 "metadata": {
  "kaggle": {
   "accelerator": "none",
   "dataSources": [
    {
     "datasetId": 1084909,
     "sourceId": 1825821,
     "sourceType": "datasetVersion"
    }
   ],
   "dockerImageVersionId": 30527,
   "isGpuEnabled": false,
   "isInternetEnabled": true,
   "language": "python",
   "sourceType": "notebook"
  },
  "kernelspec": {
   "display_name": "Python 3",
   "language": "python",
   "name": "python3"
  },
  "language_info": {
   "codemirror_mode": {
    "name": "ipython",
    "version": 3
   },
   "file_extension": ".py",
   "mimetype": "text/x-python",
   "name": "python",
   "nbconvert_exporter": "python",
   "pygments_lexer": "ipython3",
   "version": "3.10.12"
  },
  "papermill": {
   "default_parameters": {},
   "duration": 16.749834,
   "end_time": "2024-02-15T14:39:31.952591",
   "environment_variables": {},
   "exception": null,
   "input_path": "__notebook__.ipynb",
   "output_path": "__notebook__.ipynb",
   "parameters": {},
   "start_time": "2024-02-15T14:39:15.202757",
   "version": "2.4.0"
  }
 },
 "nbformat": 4,
 "nbformat_minor": 5
}
